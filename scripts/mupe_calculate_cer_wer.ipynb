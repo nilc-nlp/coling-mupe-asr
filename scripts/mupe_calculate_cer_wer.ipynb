{
  "cells": [
    {
      "cell_type": "code",
      "execution_count": null,
      "id": "Mmt-6jwSuVhX",
      "metadata": {
        "colab": {
          "base_uri": "https://localhost:8080/",
          "height": 378
        },
        "executionInfo": {
          "elapsed": 386,
          "status": "error",
          "timestamp": 1724608655661,
          "user": {
            "displayName": "",
            "userId": ""
          },
          "user_tz": 180
        },
        "id": "Mmt-6jwSuVhX",
        "outputId": "f0d01aeb-5bca-4b54-82c0-9c3f5a4b88f0"
      },
      "outputs": [],
      "source": [
        "import os\n",
        "os.makedirs('/content/cache/')\n",
        "os.makedirs('/content/cache/datasets')\n",
        "os.makedirs('/content/cache/models')\n",
        "\n",
        "%env HF_HOME=/content/cache\n",
        "%env HF_DATASETS_CACHE=/content/cache/datasets\n",
        "%env TRANSFORMERS_CACHE=/content/cache/models\n",
        "%env TORCH_HOME=/content/cache"
      ]
    },
    {
      "cell_type": "code",
      "execution_count": 2,
      "id": "rDA-8-Q2r9ZC",
      "metadata": {
        "colab": {
          "base_uri": "https://localhost:8080/"
        },
        "executionInfo": {
          "elapsed": 4,
          "status": "ok",
          "timestamp": 1724608670637,
          "user": {
            "displayName": "",
            "userId": ""
          },
          "user_tz": 180
        },
        "id": "rDA-8-Q2r9ZC",
        "outputId": "f5a592ee-5de3-4509-8e75-09373bdb9717"
      },
      "outputs": [
        {
          "name": "stdout",
          "output_type": "stream",
          "text": [
            "env: HF_HOME=/content/cache\n",
            "env: HF_DATASETS_CACHE=/content/cache/datasets\n",
            "env: TRANSFORMERS_CACHE=/content/cache/models\n",
            "env: TORCH_HOME=/content/cache\n"
          ]
        }
      ],
      "source": [
        "%env HF_HOME=/content/cache\n",
        "%env HF_DATASETS_CACHE=/content/cache/datasets\n",
        "%env TRANSFORMERS_CACHE=/content/cache/models\n",
        "%env TORCH_HOME=/content/cache"
      ]
    },
    {
      "cell_type": "code",
      "execution_count": null,
      "id": "HSv4Fx5TjpeWyyBrt7x6lz1c",
      "metadata": {
        "id": "HSv4Fx5TjpeWyyBrt7x6lz1c",
        "tags": []
      },
      "outputs": [],
      "source": [
        "!pip install jiwer\n",
        "!pip install datasets"
      ]
    },
    {
      "cell_type": "code",
      "execution_count": 3,
      "id": "sa_oJMWBGZGB",
      "metadata": {
        "colab": {
          "base_uri": "https://localhost:8080/"
        },
        "executionInfo": {
          "elapsed": 7631,
          "status": "ok",
          "timestamp": 1724608683640,
          "user": {
            "displayName": "",
            "userId": ""
          },
          "user_tz": 180
        },
        "id": "sa_oJMWBGZGB",
        "outputId": "0ee80d6f-978f-4896-bef0-412877316b11"
      },
      "outputs": [
        {
          "name": "stderr",
          "output_type": "stream",
          "text": [
            "/usr/local/lib/python3.10/dist-packages/transformers/utils/hub.py:127: FutureWarning: Using `TRANSFORMERS_CACHE` is deprecated and will be removed in v5 of Transformers. Use `HF_HOME` instead.\n",
            "  warnings.warn(\n"
          ]
        }
      ],
      "source": [
        "import torch\n",
        "from transformers import AutoModelForSpeechSeq2Seq, AutoProcessor, pipeline\n",
        "from datasets import load_dataset\n",
        "import re\n",
        "import jiwer\n",
        "import jiwer.transforms as tr\n",
        "from transformers.pipelines.pt_utils import KeyDataset\n",
        "from tqdm.auto import tqdm\n",
        "\n",
        "cer_transform = tr.Compose(\n",
        "    [\n",
        "        jiwer.ToLowerCase(),\n",
        "        jiwer.RemoveMultipleSpaces(),\n",
        "        jiwer.Strip(),\n",
        "        jiwer.ReduceToListOfListOfChars(),\n",
        "    ]\n",
        ")\n",
        "\n",
        "# It's the jiwer default transform\n",
        "wer_transform = jiwer.Compose([\n",
        "    jiwer.ToLowerCase(),\n",
        "    jiwer.RemoveMultipleSpaces(),\n",
        "    jiwer.Strip(),\n",
        "    jiwer.ReduceToListOfListOfWords(),\n",
        "])\n",
        "\n",
        "def compute_cer(reference, hypothesis):\n",
        "    reference = reference.lower()\n",
        "    hypothesis = hypothesis.lower()\n",
        "    cer = jiwer.wer(reference, hypothesis, truth_transform=cer_transform, hypothesis_transform=cer_transform)\n",
        "    return cer\n",
        "\n",
        "def compute_wer(reference, hypothesis):\n",
        "    reference = reference.lower()\n",
        "    hypothesis = hypothesis.lower()\n",
        "    wer = jiwer.wer(reference, hypothesis, truth_transform=wer_transform, hypothesis_transform=wer_transform)\n",
        "    return wer\n",
        "\n",
        "\n",
        "alphabet = \"ABCDEFGHIJKLMNOPQRSTUVWXYZÇÃÀÁÂÊÉÍÓÔÕÚÛabcdefghijklmnopqrstuvwxyzçãàáâêéíóôõũúû1234567890%\\-\\n/\\\\ \"\n",
        "\n",
        "def replace_special_tokens_and_normalize(text):\n",
        "    text = text.lower()\n",
        "\n",
        "    map_words = {\n",
        "        \"éh\": \"eh\",\n",
        "        \"ehm\": \"eh\",\n",
        "        \"ehn\": \"eh\",\n",
        "        \"hum\": \"uh\",\n",
        "        \"hm\": \"uh\",\n",
        "        \"uhm\": \"uh\",\n",
        "        \"hã\": \"ah\",\n",
        "        \"ãh\": \"ah\",\n",
        "        \"ã\":  \"ah\",\n",
        "        \"hmm\": \"uh\",\n",
        "        \"mm\": \"uh\",\n",
        "        \"mhm\": \"uh\"\n",
        "    }\n",
        "\n",
        "    text = re.sub(\"h+\", \"h\", text)\n",
        "    text = re.sub(\"[^{}]\".format(alphabet+\" \"), \" \", text)\n",
        "    text = re.sub(\"[ ]+\", \" \", text)\n",
        "\n",
        "    words = text.split(' ')\n",
        "    new_words = []\n",
        "    for word in words:\n",
        "        if word == '' or word == ' ':\n",
        "            continue\n",
        "        if word in map_words:\n",
        "            new_words.append(map_words[word])\n",
        "        else:\n",
        "            new_words.append(word)\n",
        "\n",
        "    return \" \".join(new_words)\n",
        "\n",
        "def calculate_wer_cer(reference, hypothesis):\n",
        "    if reference.strip() == '' or hypothesis.strip() == '':\n",
        "        return 1, 1\n",
        "    wer = compute_wer(reference, hypothesis)\n",
        "    cer = compute_cer(reference, hypothesis)\n",
        "    return wer, cer\n",
        "\n",
        "device = \"cuda:0\" if torch.cuda.is_available() else \"cpu\"\n",
        "torch_dtype = torch.float16 if torch.cuda.is_available() else torch.float32\n",
        "\n"
      ]
    },
    {
      "cell_type": "code",
      "execution_count": 4,
      "id": "h3O-jWP6sXes",
      "metadata": {
        "colab": {
          "base_uri": "https://localhost:8080/"
        },
        "executionInfo": {
          "elapsed": 21623,
          "status": "ok",
          "timestamp": 1724608806432,
          "user": {
            "displayName": "",
            "userId": ""
          },
          "user_tz": 180
        },
        "id": "h3O-jWP6sXes",
        "outputId": "ae73db2f-6e9c-49a3-a957-1ec9104b0c6a"
      },
      "outputs": [
        {
          "name": "stdout",
          "output_type": "stream",
          "text": [
            "Copying gs://usp_pos_doc_sid/coraav1/CORAA-v1.zip...\n",
            "/ [0 files][    0.0 B/  2.2 GiB]                                                \r==> NOTE: You are downloading one or more large file(s), which would\n",
            "run significantly faster if you enabled sliced object downloads. This\n",
            "feature is enabled by default but requires that compiled crcmod be\n",
            "installed (see \"gsutil help crcmod\").\n",
            "\n",
            "/\n",
            "Operation completed over 1 objects/2.2 GiB.                                      \n"
          ]
        }
      ],
      "source": [
        "!gsutil cp gs://usp_pos_doc_sid/coraav1/CORAA-v1.zip ."
      ]
    },
    {
      "cell_type": "code",
      "execution_count": 10,
      "id": "vdIniPQaWbkf",
      "metadata": {
        "executionInfo": {
          "elapsed": 364,
          "status": "ok",
          "timestamp": 1724609176434,
          "user": {
            "displayName": "",
            "userId": ""
          },
          "user_tz": 180
        },
        "id": "vdIniPQaWbkf"
      },
      "outputs": [],
      "source": [
        "def calculate_wer_cer_model_dataset(model_id, dataset_id, dataset_size, experiment_name, text_field_name, path_field_name):\n",
        "\n",
        "    #    dataset = load_dataset(dataset_id, \"pt\", split=\"test\",  token=\"yyyyyyy\")\n",
        "    dataset = load_dataset('audiofolder', data_dir=\"/content\", split=\"test\")\n",
        "\n",
        "    model = AutoModelForSpeechSeq2Seq.from_pretrained(\n",
        "        model_id, torch_dtype=torch_dtype, low_cpu_mem_usage=True, use_safetensors=True\n",
        "    )\n",
        "    model.to(device)\n",
        "\n",
        "    processor = AutoProcessor.from_pretrained(model_id)\n",
        "\n",
        "    pipe = pipeline(\n",
        "        \"automatic-speech-recognition\",\n",
        "        model=model,\n",
        "        tokenizer=processor.tokenizer,\n",
        "        feature_extractor=processor.feature_extractor,\n",
        "        max_new_tokens=128,\n",
        "        torch_dtype=torch_dtype,\n",
        "        device=device,\n",
        "    )\n",
        "\n",
        "    results = []\n",
        "    i = 0\n",
        "    with open(f\"{experiment_name}-test-log.txt\", mode=\"w\", encoding=\"utf-8\") as f:\n",
        "        for out in tqdm(pipe(KeyDataset(dataset, \"audio\"))):\n",
        "            #f.write(f\"{i} - {dataset[i]['audio_name']} - {dataset[i]['file_path']} - {dataset[i]['speaker_type']} - {dataset[i]['speaker_code']} - {dataset[i]['speaker_gender']}\\n\")\n",
        "            f.write(f\"{i} - {dataset[i]['audio']['path']}\\n\")\n",
        "            results.append(out['text'])\n",
        "            i+=1\n",
        "\n",
        "    total_wer = 0.0\n",
        "    total_cer = 0.0\n",
        "    qtd = 0\n",
        "    file_name_results = f\"{experiment_name}-test-output.tsv\"\n",
        "    with open(file_name_results, mode=\"w\", encoding=\"utf-8\") as f:\n",
        "        #f.write(\"audio_name\\tspeaker_type\\tspeaker_code\\tspeaker_gender\\tfile_path\\toriginal\\tprediction\\toriginal normalized\\tprediction normalized\\twer\\tcer\\n\")\n",
        "        f.write(\"file_path\\toriginal\\tprediction\\toriginal normalized\\tprediction normalized\\twer\\tcer\\n\")\n",
        "        for i, text in enumerate(results):\n",
        "            qtd += 1\n",
        "            audio_path = dataset[i]['audio']['path']\n",
        "            #audio_name = dataset[i]['audio_name']\n",
        "            #speaker_type = dataset[i]['speaker_type']\n",
        "            #speaker_code = dataset[i]['speaker_code']\n",
        "            #speaker_gender = dataset[i]['speaker_gender']\n",
        "            text_original = dataset[i][text_field_name]\n",
        "            text = text.replace('\\n','')\n",
        "            text_original = text_original.replace('\\n','')\n",
        "            text_original_norm = replace_special_tokens_and_normalize(text_original)\n",
        "            text_norm = replace_special_tokens_and_normalize(text)\n",
        "            wer, cer = calculate_wer_cer(text_original_norm, text_norm)\n",
        "            total_wer += wer\n",
        "            total_cer += cer\n",
        "            file_path = audio_path.replace('\\\\', '/')[20:]\n",
        "            #f.write(f\"{audio_name}\\t{speaker_type}\\t{speaker_code}\\t{speaker_gender}\\t{file_path}\\t{text_original}\\t{text}\\t{text_original_norm}\\t{text_norm}\\t{wer}\\t{cer}\\n\")\n",
        "            f.write(f\"{file_path}\\t{text_original}\\t{text}\\t{text_original_norm}\\t{text_norm}\\t{wer}\\t{cer}\\n\")\n",
        "\n",
        "    print(experiment_name, qtd, \"WER:\", total_wer, total_wer/qtd, \"CER:\", total_cer, total_cer/qtd)\n",
        "    file_name_results = f\"{experiment_name}-test-output.tsv\"\n",
        "    #copy file_name_results to storage\n",
        "    !gsutil cp {file_name_results} gs://usp_pos_doc_sid/mupe_coling/{file_name_results}\n"
      ]
    },
    {
      "cell_type": "code",
      "execution_count": 11,
      "id": "sHYJn0HUXqn8",
      "metadata": {
        "colab": {
          "base_uri": "https://localhost:8080/",
          "height": 227,
          "referenced_widgets": [
            "6242f5b1d0184a7c932390cbf257c7de",
            "d21dae649a79423c8579b9a3a89c9f92",
            "890a6e8ea9a345b784518f72118c202e",
            "357a0d79346c468dacd9ae0c173a7112",
            "2e30765ab2e942ac8214840a7d4e5d0a",
            "99b1610959854d64be3c5105aeac202f",
            "82349ca7f556460aaf70e39025735a60",
            "4c3023d1095f44eabf836397d59d7b51",
            "15635a6ca3a34fca9285c9ba30059d86",
            "62a07f0ef72d4f01bc1e735071c01572",
            "1d168d473b38476084b07f5f327cd1e9",
            "b9ef7925989f4f449fa041a5eed8f324",
            "d3cb0d15dab44ae5ab8e6737beba8485",
            "9f8150efb41540f99db42af9b74ed7f0",
            "a03fbc1d3aaa4a618ce1038a8d4d1c8b",
            "66a46d62d0c44f3d9353176c8cb83b06",
            "eccca3a448704028a1cd56d9e10d2e98",
            "69a393bb91d54788b574da2246a35a8f",
            "c36cc3b2e41649578a355111a6ab33ac",
            "a4b85ca0d394495dac265880a5590ad2",
            "9c2588cf7b64483396d3429e8a0f2ef9",
            "cbb9dcbcaf844bbc99a5bb2900ec25f8"
          ]
        },
        "executionInfo": {
          "elapsed": 1811373,
          "status": "ok",
          "timestamp": 1724610991183,
          "user": {
            "displayName": "",
            "userId": ""
          },
          "user_tz": 180
        },
        "id": "sHYJn0HUXqn8",
        "outputId": "f241b3b2-97cf-43ac-e00e-14cfa65c17bc"
      },
      "outputs": [
        {
          "data": {
            "application/vnd.jupyter.widget-view+json": {
              "model_id": "6242f5b1d0184a7c932390cbf257c7de",
              "version_major": 2,
              "version_minor": 0
            },
            "text/plain": [
              "Resolving data files:   0%|          | 0/12666 [00:00<?, ?it/s]"
            ]
          },
          "metadata": {},
          "output_type": "display_data"
        },
        {
          "name": "stderr",
          "output_type": "stream",
          "text": [
            "Special tokens have been added in the vocabulary, make sure the associated word embeddings are fine-tuned or trained.\n"
          ]
        },
        {
          "data": {
            "application/vnd.jupyter.widget-view+json": {
              "model_id": "b9ef7925989f4f449fa041a5eed8f324",
              "version_major": 2,
              "version_minor": 0
            },
            "text/plain": [
              "  0%|          | 0/12666 [00:00<?, ?it/s]"
            ]
          },
          "metadata": {},
          "output_type": "display_data"
        },
        {
          "name": "stderr",
          "output_type": "stream",
          "text": [
            "/usr/local/lib/python3.10/dist-packages/transformers/models/whisper/generation_whisper.py:480: FutureWarning: The input name `inputs` is deprecated. Please make sure to use `input_features` instead.\n",
            "  warnings.warn(\n"
          ]
        },
        {
          "name": "stdout",
          "output_type": "stream",
          "text": [
            "mupe_coraav1 12666 WER: 3310.8521342251183 0.26139682095571753 CER: 1797.7884795558193 0.14193813986703138\n",
            "Copying file://mupe_coraav1-test-output.tsv [Content-Type=text/tab-separated-values]...\n",
            "/ [1 files][  2.8 MiB/  2.8 MiB]                                                \n",
            "Operation completed over 1 objects/2.8 MiB.                                      \n"
          ]
        }
      ],
      "source": [
        "#datasets:\n",
        "#CORAA ASR e CORAA NURC-SP e commonvoice\n",
        "#calculate_wer_cer_model_dataset(\"sidleal/distil-whisper-coraa-mupe-asr-2\", \"sidleal/CORAA-MUPE-ASR-1\", 22000, 'mupe_mupe')\n",
        "calculate_wer_cer_model_dataset(\"sidleal/distil-whisper-coraa-mupe-asr-2\", \"gabrielrstan/CORAA-v1.1\", 13000, 'mupe_coraav1', 'text', 'file_name')\n",
        "#calculate_wer_cer_model_dataset(\"sidleal/distil-whisper-coraa-mupe-asr-2\", \"RodrigoLimaRFL/nurc-sp-hugging-face\", 7000, 'mupe_nurcsp', 'text', 'file_path')\n",
        "#\"mozilla-foundation/common_voice_13_0\" \"mozilla-foundation/common_voice_17_0\"\n",
        "#calculate_wer_cer_model_dataset(\"sidleal/distil-whisper-coraa-mupe-asr-2\", \"mozilla-foundation/common_voice_13_0\", 10000, 'mupe_commonvoice', 'sentence', 'path')\n",
        "#calculate_wer_cer_model_dataset(\"openai/whisper-large-v3\", \"sidleal/CORAA-MUPE-ASR-1\", 22000, 'whisp_large_mupe', 'original_text', 'file_path')\n"
      ]
    },
    {
      "cell_type": "markdown",
      "id": "Sc-quU5QCONv",
      "metadata": {
        "id": "Sc-quU5QCONv"
      },
      "source": [
        "common\n",
        "Special tokens have been added in the vocabulary, make sure the associated word embeddings are fine-tuned or trained.\n",
        "100%\n",
        " 9072/9072 [24:36<00:00,  5.63it/s]\n",
        "mupe_commonvoice 9072 WER: 1485.7992285492246 0.16377857457553183 CER: 468.9457563812754 0.0516915516293293\n",
        "Copying file://mupe_commonvoice-test-output.tsv [Content-Type=text/tab-separated-values]...\n",
        "/ [1 files][  2.8 MiB/  2.8 MiB]                                                \n",
        "Operation completed over 1 objects/2.8 MiB.        "
      ]
    }
  ],
  "metadata": {
    "colab": {
      "name": "mupe_calculate_cer_wer_2_coraav1",
      "provenance": []
    },
    "kernelspec": {
      "display_name": "Python 3",
      "language": "python",
      "name": "python3"
    },
    "language_info": {
      "codemirror_mode": {
        "name": "ipython",
        "version": 3
      },
      "file_extension": ".py",
      "mimetype": "text/x-python",
      "name": "python",
      "nbconvert_exporter": "python",
      "pygments_lexer": "ipython3",
      "version": "3.10.10"
    },
    "widgets": {
      "application/vnd.jupyter.widget-state+json": {
        "15635a6ca3a34fca9285c9ba30059d86": {
          "model_module": "@jupyter-widgets/controls",
          "model_module_version": "1.5.0",
          "model_name": "ProgressStyleModel",
          "state": {
            "_model_module": "@jupyter-widgets/controls",
            "_model_module_version": "1.5.0",
            "_model_name": "ProgressStyleModel",
            "_view_count": null,
            "_view_module": "@jupyter-widgets/base",
            "_view_module_version": "1.2.0",
            "_view_name": "StyleView",
            "bar_color": null,
            "description_width": ""
          }
        },
        "1d168d473b38476084b07f5f327cd1e9": {
          "model_module": "@jupyter-widgets/controls",
          "model_module_version": "1.5.0",
          "model_name": "DescriptionStyleModel",
          "state": {
            "_model_module": "@jupyter-widgets/controls",
            "_model_module_version": "1.5.0",
            "_model_name": "DescriptionStyleModel",
            "_view_count": null,
            "_view_module": "@jupyter-widgets/base",
            "_view_module_version": "1.2.0",
            "_view_name": "StyleView",
            "description_width": ""
          }
        },
        "2e30765ab2e942ac8214840a7d4e5d0a": {
          "model_module": "@jupyter-widgets/base",
          "model_module_version": "1.2.0",
          "model_name": "LayoutModel",
          "state": {
            "_model_module": "@jupyter-widgets/base",
            "_model_module_version": "1.2.0",
            "_model_name": "LayoutModel",
            "_view_count": null,
            "_view_module": "@jupyter-widgets/base",
            "_view_module_version": "1.2.0",
            "_view_name": "LayoutView",
            "align_content": null,
            "align_items": null,
            "align_self": null,
            "border": null,
            "bottom": null,
            "display": null,
            "flex": null,
            "flex_flow": null,
            "grid_area": null,
            "grid_auto_columns": null,
            "grid_auto_flow": null,
            "grid_auto_rows": null,
            "grid_column": null,
            "grid_gap": null,
            "grid_row": null,
            "grid_template_areas": null,
            "grid_template_columns": null,
            "grid_template_rows": null,
            "height": null,
            "justify_content": null,
            "justify_items": null,
            "left": null,
            "margin": null,
            "max_height": null,
            "max_width": null,
            "min_height": null,
            "min_width": null,
            "object_fit": null,
            "object_position": null,
            "order": null,
            "overflow": null,
            "overflow_x": null,
            "overflow_y": null,
            "padding": null,
            "right": null,
            "top": null,
            "visibility": null,
            "width": null
          }
        },
        "357a0d79346c468dacd9ae0c173a7112": {
          "model_module": "@jupyter-widgets/controls",
          "model_module_version": "1.5.0",
          "model_name": "HTMLModel",
          "state": {
            "_dom_classes": [],
            "_model_module": "@jupyter-widgets/controls",
            "_model_module_version": "1.5.0",
            "_model_name": "HTMLModel",
            "_view_count": null,
            "_view_module": "@jupyter-widgets/controls",
            "_view_module_version": "1.5.0",
            "_view_name": "HTMLView",
            "description": "",
            "description_tooltip": null,
            "layout": "IPY_MODEL_62a07f0ef72d4f01bc1e735071c01572",
            "placeholder": "​",
            "style": "IPY_MODEL_1d168d473b38476084b07f5f327cd1e9",
            "value": " 12666/12666 [00:00&lt;00:00,  6.54it/s]"
          }
        },
        "4c3023d1095f44eabf836397d59d7b51": {
          "model_module": "@jupyter-widgets/base",
          "model_module_version": "1.2.0",
          "model_name": "LayoutModel",
          "state": {
            "_model_module": "@jupyter-widgets/base",
            "_model_module_version": "1.2.0",
            "_model_name": "LayoutModel",
            "_view_count": null,
            "_view_module": "@jupyter-widgets/base",
            "_view_module_version": "1.2.0",
            "_view_name": "LayoutView",
            "align_content": null,
            "align_items": null,
            "align_self": null,
            "border": null,
            "bottom": null,
            "display": null,
            "flex": null,
            "flex_flow": null,
            "grid_area": null,
            "grid_auto_columns": null,
            "grid_auto_flow": null,
            "grid_auto_rows": null,
            "grid_column": null,
            "grid_gap": null,
            "grid_row": null,
            "grid_template_areas": null,
            "grid_template_columns": null,
            "grid_template_rows": null,
            "height": null,
            "justify_content": null,
            "justify_items": null,
            "left": null,
            "margin": null,
            "max_height": null,
            "max_width": null,
            "min_height": null,
            "min_width": null,
            "object_fit": null,
            "object_position": null,
            "order": null,
            "overflow": null,
            "overflow_x": null,
            "overflow_y": null,
            "padding": null,
            "right": null,
            "top": null,
            "visibility": null,
            "width": null
          }
        },
        "6242f5b1d0184a7c932390cbf257c7de": {
          "model_module": "@jupyter-widgets/controls",
          "model_module_version": "1.5.0",
          "model_name": "HBoxModel",
          "state": {
            "_dom_classes": [],
            "_model_module": "@jupyter-widgets/controls",
            "_model_module_version": "1.5.0",
            "_model_name": "HBoxModel",
            "_view_count": null,
            "_view_module": "@jupyter-widgets/controls",
            "_view_module_version": "1.5.0",
            "_view_name": "HBoxView",
            "box_style": "",
            "children": [
              "IPY_MODEL_d21dae649a79423c8579b9a3a89c9f92",
              "IPY_MODEL_890a6e8ea9a345b784518f72118c202e",
              "IPY_MODEL_357a0d79346c468dacd9ae0c173a7112"
            ],
            "layout": "IPY_MODEL_2e30765ab2e942ac8214840a7d4e5d0a"
          }
        },
        "62a07f0ef72d4f01bc1e735071c01572": {
          "model_module": "@jupyter-widgets/base",
          "model_module_version": "1.2.0",
          "model_name": "LayoutModel",
          "state": {
            "_model_module": "@jupyter-widgets/base",
            "_model_module_version": "1.2.0",
            "_model_name": "LayoutModel",
            "_view_count": null,
            "_view_module": "@jupyter-widgets/base",
            "_view_module_version": "1.2.0",
            "_view_name": "LayoutView",
            "align_content": null,
            "align_items": null,
            "align_self": null,
            "border": null,
            "bottom": null,
            "display": null,
            "flex": null,
            "flex_flow": null,
            "grid_area": null,
            "grid_auto_columns": null,
            "grid_auto_flow": null,
            "grid_auto_rows": null,
            "grid_column": null,
            "grid_gap": null,
            "grid_row": null,
            "grid_template_areas": null,
            "grid_template_columns": null,
            "grid_template_rows": null,
            "height": null,
            "justify_content": null,
            "justify_items": null,
            "left": null,
            "margin": null,
            "max_height": null,
            "max_width": null,
            "min_height": null,
            "min_width": null,
            "object_fit": null,
            "object_position": null,
            "order": null,
            "overflow": null,
            "overflow_x": null,
            "overflow_y": null,
            "padding": null,
            "right": null,
            "top": null,
            "visibility": null,
            "width": null
          }
        },
        "66a46d62d0c44f3d9353176c8cb83b06": {
          "model_module": "@jupyter-widgets/base",
          "model_module_version": "1.2.0",
          "model_name": "LayoutModel",
          "state": {
            "_model_module": "@jupyter-widgets/base",
            "_model_module_version": "1.2.0",
            "_model_name": "LayoutModel",
            "_view_count": null,
            "_view_module": "@jupyter-widgets/base",
            "_view_module_version": "1.2.0",
            "_view_name": "LayoutView",
            "align_content": null,
            "align_items": null,
            "align_self": null,
            "border": null,
            "bottom": null,
            "display": null,
            "flex": null,
            "flex_flow": null,
            "grid_area": null,
            "grid_auto_columns": null,
            "grid_auto_flow": null,
            "grid_auto_rows": null,
            "grid_column": null,
            "grid_gap": null,
            "grid_row": null,
            "grid_template_areas": null,
            "grid_template_columns": null,
            "grid_template_rows": null,
            "height": null,
            "justify_content": null,
            "justify_items": null,
            "left": null,
            "margin": null,
            "max_height": null,
            "max_width": null,
            "min_height": null,
            "min_width": null,
            "object_fit": null,
            "object_position": null,
            "order": null,
            "overflow": null,
            "overflow_x": null,
            "overflow_y": null,
            "padding": null,
            "right": null,
            "top": null,
            "visibility": null,
            "width": null
          }
        },
        "69a393bb91d54788b574da2246a35a8f": {
          "model_module": "@jupyter-widgets/controls",
          "model_module_version": "1.5.0",
          "model_name": "DescriptionStyleModel",
          "state": {
            "_model_module": "@jupyter-widgets/controls",
            "_model_module_version": "1.5.0",
            "_model_name": "DescriptionStyleModel",
            "_view_count": null,
            "_view_module": "@jupyter-widgets/base",
            "_view_module_version": "1.2.0",
            "_view_name": "StyleView",
            "description_width": ""
          }
        },
        "82349ca7f556460aaf70e39025735a60": {
          "model_module": "@jupyter-widgets/controls",
          "model_module_version": "1.5.0",
          "model_name": "DescriptionStyleModel",
          "state": {
            "_model_module": "@jupyter-widgets/controls",
            "_model_module_version": "1.5.0",
            "_model_name": "DescriptionStyleModel",
            "_view_count": null,
            "_view_module": "@jupyter-widgets/base",
            "_view_module_version": "1.2.0",
            "_view_name": "StyleView",
            "description_width": ""
          }
        },
        "890a6e8ea9a345b784518f72118c202e": {
          "model_module": "@jupyter-widgets/controls",
          "model_module_version": "1.5.0",
          "model_name": "FloatProgressModel",
          "state": {
            "_dom_classes": [],
            "_model_module": "@jupyter-widgets/controls",
            "_model_module_version": "1.5.0",
            "_model_name": "FloatProgressModel",
            "_view_count": null,
            "_view_module": "@jupyter-widgets/controls",
            "_view_module_version": "1.5.0",
            "_view_name": "ProgressView",
            "bar_style": "success",
            "description": "",
            "description_tooltip": null,
            "layout": "IPY_MODEL_4c3023d1095f44eabf836397d59d7b51",
            "max": 12666,
            "min": 0,
            "orientation": "horizontal",
            "style": "IPY_MODEL_15635a6ca3a34fca9285c9ba30059d86",
            "value": 12666
          }
        },
        "99b1610959854d64be3c5105aeac202f": {
          "model_module": "@jupyter-widgets/base",
          "model_module_version": "1.2.0",
          "model_name": "LayoutModel",
          "state": {
            "_model_module": "@jupyter-widgets/base",
            "_model_module_version": "1.2.0",
            "_model_name": "LayoutModel",
            "_view_count": null,
            "_view_module": "@jupyter-widgets/base",
            "_view_module_version": "1.2.0",
            "_view_name": "LayoutView",
            "align_content": null,
            "align_items": null,
            "align_self": null,
            "border": null,
            "bottom": null,
            "display": null,
            "flex": null,
            "flex_flow": null,
            "grid_area": null,
            "grid_auto_columns": null,
            "grid_auto_flow": null,
            "grid_auto_rows": null,
            "grid_column": null,
            "grid_gap": null,
            "grid_row": null,
            "grid_template_areas": null,
            "grid_template_columns": null,
            "grid_template_rows": null,
            "height": null,
            "justify_content": null,
            "justify_items": null,
            "left": null,
            "margin": null,
            "max_height": null,
            "max_width": null,
            "min_height": null,
            "min_width": null,
            "object_fit": null,
            "object_position": null,
            "order": null,
            "overflow": null,
            "overflow_x": null,
            "overflow_y": null,
            "padding": null,
            "right": null,
            "top": null,
            "visibility": null,
            "width": null
          }
        },
        "9c2588cf7b64483396d3429e8a0f2ef9": {
          "model_module": "@jupyter-widgets/base",
          "model_module_version": "1.2.0",
          "model_name": "LayoutModel",
          "state": {
            "_model_module": "@jupyter-widgets/base",
            "_model_module_version": "1.2.0",
            "_model_name": "LayoutModel",
            "_view_count": null,
            "_view_module": "@jupyter-widgets/base",
            "_view_module_version": "1.2.0",
            "_view_name": "LayoutView",
            "align_content": null,
            "align_items": null,
            "align_self": null,
            "border": null,
            "bottom": null,
            "display": null,
            "flex": null,
            "flex_flow": null,
            "grid_area": null,
            "grid_auto_columns": null,
            "grid_auto_flow": null,
            "grid_auto_rows": null,
            "grid_column": null,
            "grid_gap": null,
            "grid_row": null,
            "grid_template_areas": null,
            "grid_template_columns": null,
            "grid_template_rows": null,
            "height": null,
            "justify_content": null,
            "justify_items": null,
            "left": null,
            "margin": null,
            "max_height": null,
            "max_width": null,
            "min_height": null,
            "min_width": null,
            "object_fit": null,
            "object_position": null,
            "order": null,
            "overflow": null,
            "overflow_x": null,
            "overflow_y": null,
            "padding": null,
            "right": null,
            "top": null,
            "visibility": null,
            "width": null
          }
        },
        "9f8150efb41540f99db42af9b74ed7f0": {
          "model_module": "@jupyter-widgets/controls",
          "model_module_version": "1.5.0",
          "model_name": "FloatProgressModel",
          "state": {
            "_dom_classes": [],
            "_model_module": "@jupyter-widgets/controls",
            "_model_module_version": "1.5.0",
            "_model_name": "FloatProgressModel",
            "_view_count": null,
            "_view_module": "@jupyter-widgets/controls",
            "_view_module_version": "1.5.0",
            "_view_name": "ProgressView",
            "bar_style": "success",
            "description": "",
            "description_tooltip": null,
            "layout": "IPY_MODEL_c36cc3b2e41649578a355111a6ab33ac",
            "max": 12666,
            "min": 0,
            "orientation": "horizontal",
            "style": "IPY_MODEL_a4b85ca0d394495dac265880a5590ad2",
            "value": 12666
          }
        },
        "a03fbc1d3aaa4a618ce1038a8d4d1c8b": {
          "model_module": "@jupyter-widgets/controls",
          "model_module_version": "1.5.0",
          "model_name": "HTMLModel",
          "state": {
            "_dom_classes": [],
            "_model_module": "@jupyter-widgets/controls",
            "_model_module_version": "1.5.0",
            "_model_name": "HTMLModel",
            "_view_count": null,
            "_view_module": "@jupyter-widgets/controls",
            "_view_module_version": "1.5.0",
            "_view_name": "HTMLView",
            "description": "",
            "description_tooltip": null,
            "layout": "IPY_MODEL_9c2588cf7b64483396d3429e8a0f2ef9",
            "placeholder": "​",
            "style": "IPY_MODEL_cbb9dcbcaf844bbc99a5bb2900ec25f8",
            "value": " 12666/12666 [29:25&lt;00:00,  8.17it/s]"
          }
        },
        "a4b85ca0d394495dac265880a5590ad2": {
          "model_module": "@jupyter-widgets/controls",
          "model_module_version": "1.5.0",
          "model_name": "ProgressStyleModel",
          "state": {
            "_model_module": "@jupyter-widgets/controls",
            "_model_module_version": "1.5.0",
            "_model_name": "ProgressStyleModel",
            "_view_count": null,
            "_view_module": "@jupyter-widgets/base",
            "_view_module_version": "1.2.0",
            "_view_name": "StyleView",
            "bar_color": null,
            "description_width": ""
          }
        },
        "b9ef7925989f4f449fa041a5eed8f324": {
          "model_module": "@jupyter-widgets/controls",
          "model_module_version": "1.5.0",
          "model_name": "HBoxModel",
          "state": {
            "_dom_classes": [],
            "_model_module": "@jupyter-widgets/controls",
            "_model_module_version": "1.5.0",
            "_model_name": "HBoxModel",
            "_view_count": null,
            "_view_module": "@jupyter-widgets/controls",
            "_view_module_version": "1.5.0",
            "_view_name": "HBoxView",
            "box_style": "",
            "children": [
              "IPY_MODEL_d3cb0d15dab44ae5ab8e6737beba8485",
              "IPY_MODEL_9f8150efb41540f99db42af9b74ed7f0",
              "IPY_MODEL_a03fbc1d3aaa4a618ce1038a8d4d1c8b"
            ],
            "layout": "IPY_MODEL_66a46d62d0c44f3d9353176c8cb83b06"
          }
        },
        "c36cc3b2e41649578a355111a6ab33ac": {
          "model_module": "@jupyter-widgets/base",
          "model_module_version": "1.2.0",
          "model_name": "LayoutModel",
          "state": {
            "_model_module": "@jupyter-widgets/base",
            "_model_module_version": "1.2.0",
            "_model_name": "LayoutModel",
            "_view_count": null,
            "_view_module": "@jupyter-widgets/base",
            "_view_module_version": "1.2.0",
            "_view_name": "LayoutView",
            "align_content": null,
            "align_items": null,
            "align_self": null,
            "border": null,
            "bottom": null,
            "display": null,
            "flex": null,
            "flex_flow": null,
            "grid_area": null,
            "grid_auto_columns": null,
            "grid_auto_flow": null,
            "grid_auto_rows": null,
            "grid_column": null,
            "grid_gap": null,
            "grid_row": null,
            "grid_template_areas": null,
            "grid_template_columns": null,
            "grid_template_rows": null,
            "height": null,
            "justify_content": null,
            "justify_items": null,
            "left": null,
            "margin": null,
            "max_height": null,
            "max_width": null,
            "min_height": null,
            "min_width": null,
            "object_fit": null,
            "object_position": null,
            "order": null,
            "overflow": null,
            "overflow_x": null,
            "overflow_y": null,
            "padding": null,
            "right": null,
            "top": null,
            "visibility": null,
            "width": null
          }
        },
        "cbb9dcbcaf844bbc99a5bb2900ec25f8": {
          "model_module": "@jupyter-widgets/controls",
          "model_module_version": "1.5.0",
          "model_name": "DescriptionStyleModel",
          "state": {
            "_model_module": "@jupyter-widgets/controls",
            "_model_module_version": "1.5.0",
            "_model_name": "DescriptionStyleModel",
            "_view_count": null,
            "_view_module": "@jupyter-widgets/base",
            "_view_module_version": "1.2.0",
            "_view_name": "StyleView",
            "description_width": ""
          }
        },
        "d21dae649a79423c8579b9a3a89c9f92": {
          "model_module": "@jupyter-widgets/controls",
          "model_module_version": "1.5.0",
          "model_name": "HTMLModel",
          "state": {
            "_dom_classes": [],
            "_model_module": "@jupyter-widgets/controls",
            "_model_module_version": "1.5.0",
            "_model_name": "HTMLModel",
            "_view_count": null,
            "_view_module": "@jupyter-widgets/controls",
            "_view_module_version": "1.5.0",
            "_view_name": "HTMLView",
            "description": "",
            "description_tooltip": null,
            "layout": "IPY_MODEL_99b1610959854d64be3c5105aeac202f",
            "placeholder": "​",
            "style": "IPY_MODEL_82349ca7f556460aaf70e39025735a60",
            "value": "Resolving data files: 100%"
          }
        },
        "d3cb0d15dab44ae5ab8e6737beba8485": {
          "model_module": "@jupyter-widgets/controls",
          "model_module_version": "1.5.0",
          "model_name": "HTMLModel",
          "state": {
            "_dom_classes": [],
            "_model_module": "@jupyter-widgets/controls",
            "_model_module_version": "1.5.0",
            "_model_name": "HTMLModel",
            "_view_count": null,
            "_view_module": "@jupyter-widgets/controls",
            "_view_module_version": "1.5.0",
            "_view_name": "HTMLView",
            "description": "",
            "description_tooltip": null,
            "layout": "IPY_MODEL_eccca3a448704028a1cd56d9e10d2e98",
            "placeholder": "​",
            "style": "IPY_MODEL_69a393bb91d54788b574da2246a35a8f",
            "value": "100%"
          }
        },
        "eccca3a448704028a1cd56d9e10d2e98": {
          "model_module": "@jupyter-widgets/base",
          "model_module_version": "1.2.0",
          "model_name": "LayoutModel",
          "state": {
            "_model_module": "@jupyter-widgets/base",
            "_model_module_version": "1.2.0",
            "_model_name": "LayoutModel",
            "_view_count": null,
            "_view_module": "@jupyter-widgets/base",
            "_view_module_version": "1.2.0",
            "_view_name": "LayoutView",
            "align_content": null,
            "align_items": null,
            "align_self": null,
            "border": null,
            "bottom": null,
            "display": null,
            "flex": null,
            "flex_flow": null,
            "grid_area": null,
            "grid_auto_columns": null,
            "grid_auto_flow": null,
            "grid_auto_rows": null,
            "grid_column": null,
            "grid_gap": null,
            "grid_row": null,
            "grid_template_areas": null,
            "grid_template_columns": null,
            "grid_template_rows": null,
            "height": null,
            "justify_content": null,
            "justify_items": null,
            "left": null,
            "margin": null,
            "max_height": null,
            "max_width": null,
            "min_height": null,
            "min_width": null,
            "object_fit": null,
            "object_position": null,
            "order": null,
            "overflow": null,
            "overflow_x": null,
            "overflow_y": null,
            "padding": null,
            "right": null,
            "top": null,
            "visibility": null,
            "width": null
          }
        }
      }
    }
  },
  "nbformat": 4,
  "nbformat_minor": 5
}
